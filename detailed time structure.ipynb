{
 "cells": [
  {
   "cell_type": "markdown",
   "metadata": {},
   "source": [
    "Let's look at the detailed time structure of synchrotron pulse.To be more specific, this file shows when electron is moving circularly, and the abserver is in X derection, electron's retarded electric field in that abservation point. Import the necessary libraries first."
   ]
  },
  {
   "cell_type": "code",
   "execution_count": 21,
   "metadata": {},
   "outputs": [],
   "source": [
    "import numpy as np\n",
    "import matplotlib.pyplot as plt\n",
    "import matplotlib.animation as animation"
   ]
  },
  {
   "cell_type": "markdown",
   "metadata": {},
   "source": [
    "In order to show two figure together, let's creat two subplot."
   ]
  },
  {
   "cell_type": "code",
   "execution_count": 22,
   "metadata": {},
   "outputs": [
    {
     "data": {
      "image/png": "[encoded data removed]",
      "text/plain": [
       "<Figure size 432x288 with 2 Axes>"
      ]
     },
     "metadata": {
      "needs_background": "light"
     },
     "output_type": "display_data"
    }
   ],
   "source": [
    "fig, ((ax11, ax12)) = plt.subplots(1,2,\n",
    "                                 sharex=False,\n",
    "                                 sharey=False,\n",
    "                                  tight_layout=False)\n",
    "fig.subplots_adjust(wspace=0.3)"
   ]
  },
  {
   "cell_type": "markdown",
   "metadata": {},
   "source": [
    "Now, input the necessary constant physics quantites."
   ]
  },
  {
   "cell_type": "code",
   "execution_count": 23,
   "metadata": {},
   "outputs": [],
   "source": [
    "r=1\n",
    "a,b = (0., 0.)\n",
    "omega = 1\n",
    "q = 1.6*10**-19\n",
    "c = 3*10**8\n",
    "R=50"
   ]
  },
  {
   "cell_type": "markdown",
   "metadata": {},
   "source": [
    "Then input variable $\\beta$ value, consider large $\\beta$ first, and you can change it at your specific case."
   ]
  },
  {
   "cell_type": "code",
   "execution_count": 24,
   "metadata": {},
   "outputs": [],
   "source": [
    "beta = 0.8"
   ]
  },
  {
   "cell_type": "markdown",
   "metadata": {},
   "source": [
    "Now, set the labels and titles of each figure"
   ]
  },
  {
   "cell_type": "code",
   "execution_count": 26,
   "metadata": {},
   "outputs": [
    {
     "data": {
      "text/plain": [
       "Text(0.5, 1, '$\\\\beta$=0.8')"
      ]
     },
     "execution_count": 26,
     "metadata": {},
     "output_type": "execute_result"
    }
   ],
   "source": [
    "ax11.axis('equal')\n",
    "ax11.set_xlabel('x')\n",
    "ax11.set_ylabel('y',rotation=0)\n",
    "ax11.set_title('electron motion')\n",
    "ax12.set_xlabel('t')\n",
    "ax12.set_ylabel('E(t)',rotation=0)\n",
    "ax12.set_title(r'$\\beta$='+str(beta))"
   ]
  },
  {
   "cell_type": "markdown",
   "metadata": {},
   "source": [
    "We start to define independent variables and it's corresponding electric field."
   ]
  },
  {
   "cell_type": "code",
   "execution_count": 28,
   "metadata": {},
   "outputs": [],
   "source": [
    "t = np.arange(-np.pi, np.pi, 0.05)\n",
    "x = a + r*np.sin(t)\n",
    "y = b - r*np.cos(t)\n",
    "line11, = ax11.plot(x,y,lw=2)\n",
    "E = -q*omega*beta*(beta-np.cos(t))/(1-beta*np.cos(t))**3/c/R\n",
    "line12, = ax12.plot(t,E,lw=2)"
   ]
  },
  {
   "cell_type": "code",
   "execution_count": 30,
   "metadata": {},
   "outputs": [
    {
     "data": {
      "image/png": "[encoded data removed]",
      "text/plain": [
       "<Figure size 432x288 with 1 Axes>"
      ]
     },
     "metadata": {
      "needs_background": "light"
     },
     "output_type": "display_data"
    }
   ],
   "source": [
    "def update_points(num):\n",
    "    point_ani1.set_data(x[num], y[num])\n",
    "    point_ani2.set_data(t[num], E[num])\n",
    "    \n",
    "    text_pt1.set_position((x[num], y[num]))\n",
    "    text_pt2.set_position((t[num], E[num]))\n",
    "    text_pt2.set_text(\"t=%.1f, E=%.1e\"%(t[num], E[num]))\n",
    "    return point_ani1,point_ani2,text_pt2,\n",
    "\n",
    "\n",
    "point_ani1, = ax11.plot(x[0], y[0], \"ro\")  \n",
    "point_ani2, = ax12.plot(t[0], E[0], \"ro\")\n",
    "ax11.grid(ls=\"--\")\n",
    "ax12.grid(ls=\"--\")\n",
    "text_pt2= plt.text(1.2, 1.9, '', fontsize=10)\n",
    " \n",
    "ani = animation.FuncAnimation(fig, update_points, frames=500, interval=20, blit=False)\n",
    "plt.show()"
   ]
  },
  {
   "cell_type": "code",
   "execution_count": null,
   "metadata": {},
   "outputs": [],
   "source": []
  }
 ],
 "metadata": {
  "kernelspec": {
   "display_name": "Python 3",
   "language": "python",
   "name": "python3"
  },
  "language_info": {
   "codemirror_mode": {
    "name": "ipython",
    "version": 3
   },
   "file_extension": ".py",
   "mimetype": "text/x-python",
   "name": "python",
   "nbconvert_exporter": "python",
   "pygments_lexer": "ipython3",
   "version": "3.7.4"
  }
 },
 "nbformat": 4,
 "nbformat_minor": 2
}
